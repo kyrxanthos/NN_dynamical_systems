{
 "cells": [
  {
   "cell_type": "code",
   "execution_count": 55,
   "metadata": {},
   "outputs": [],
   "source": [
    "# imports \n",
    "import tensorflow as tf\n",
    "import numpy as np\n",
    "import pandas as pd\n",
    "import tensorflow.keras.backend as kb\n",
    "import matplotlib.pyplot as plt\n",
    "import time\n",
    "seed = 1\n",
    "np.random.seed(seed)\n",
    "\n",
    "plt.rcParams['figure.figsize'] = (12,8)\n",
    "plt.rcParams['figure.dpi'] = 80"
   ]
  },
  {
   "cell_type": "code",
   "execution_count": 71,
   "metadata": {},
   "outputs": [],
   "source": [
    "class MyModel(tf.keras.Model):\n",
    "\n",
    "    def __init__(self, *args, **kwargs):\n",
    "        super(MyModel, self).__init__(*args, **kwargs)\n",
    "\n",
    "    def grad_loss_eq(self, gradx, x_batch_train, vf_batch_train):\n",
    "        # LHS of eq 6.4\n",
    "        # divided by D\n",
    "        # g_loss = tf.math.reduce_sum(tf.math.square(tf.math.reduce_sum(gradx*vf_batch_train,axis=1) + tf.math.reduce_sum(tf.math.square(x_batch_train), axis=1))) / len(x_batch_train)\n",
    "        g_loss = tf.math.reduce_sum(tf.math.square(tf.math.reduce_sum(gradx*vf_batch_train,axis=0) + tf.math.reduce_sum(tf.math.square(x_batch_train), axis=0))) / len(x_batch_train)\n",
    "\n",
    "        return g_loss\n",
    "\n",
    "    def train_step(self, x_batch_train, vf_batch_train):\n",
    "\n",
    "        # start gradient recording for derivative w.r.t. model parameters\n",
    "        with tf.GradientTape() as tape:\n",
    "\n",
    "            # evaluate model\n",
    "            # try trainable = False\n",
    "            logits = self(x_batch_train)\n",
    "\n",
    "            # start gradient recording for derivative w.r.t. x\n",
    "            with tf.GradientTape() as tapex:\n",
    "\n",
    "                # prepare for evaluation of x-derivative\n",
    "                tapex.watch(x_batch_train)\n",
    "                # not sure if training should be false here.\n",
    "                logits2 = self(x_batch_train)\n",
    "\n",
    "                # evaluate x-derivative\n",
    "                gradx = tapex.gradient(logits2, x_batch_train)\n",
    "\n",
    "                # evaluate PDE part of loss function\n",
    "                gloss = self.grad_loss_eq(gradx, x_batch_train, vf_batch_train)\n",
    "                # this is the w in the loss equation   \n",
    "                gradweight = 1\n",
    "                loss_value =  gradweight * gloss\n",
    "\n",
    "        # evaluate derivative w.r.t. model parameters\n",
    "            grads = tape.gradient(loss_value, self.trainable_weights)\n",
    "\n",
    "        # Run one step of gradient descent optimizer\n",
    "            sgd = tf.keras.optimizers.SGD(learning_rate=0.0005)\n",
    "            opt = tf.keras.optimizers.Adam(learning_rate=0.05)\n",
    "            # opt.apply_gradients(zip(grads, self.trainable_weights))\n",
    "            sgd.apply_gradients(zip(grads, self.trainable_weights))\n",
    "\n",
    "\n",
    "        return(loss_value,gloss)\n",
    "    \n",
    "    def test_step(self, x_test, vf_test):\n",
    "\n",
    "        y_pred = self(x_test, training=False)\n",
    "\n",
    "        with tf.GradientTape() as tapex:\n",
    "\n",
    "            tapex.watch(x_test)\n",
    "            # not sure if training should be false here.\n",
    "            logits2 = self(x_test, training =False)\n",
    "\n",
    "            # evaluate x-derivative\n",
    "            gradx = tapex.gradient(logits2, x_test)\n",
    "\n",
    "            loss = self.grad_loss_eq(gradx, x_test, vf_test)\n",
    "        return 1 * loss"
   ]
  },
  {
   "cell_type": "code",
   "execution_count": 72,
   "metadata": {},
   "outputs": [],
   "source": [
    "class Create_Data():\n",
    "    \n",
    "    def __init__(self, vf, dim):\n",
    "        super(Create_Data, self).__init__()\n",
    "        self.vf = vf\n",
    "        self.dim = dim\n",
    "    \n",
    "    def create_raw_data(self, train_n, bounds, test_n):\n",
    "        # n is the number of points, bounds is a list of bounds for the d-dimensional data\n",
    "        if self.dim == 2:\n",
    "            omega_domain = np.array([np.random.uniform(-bounds[0], bounds[0],train_n), np.random.uniform(-bounds[1],bounds[1],train_n)]).T\n",
    "            test_omega_domain = np.array([np.random.uniform(-bounds[0], bounds[0],test_n), np.random.uniform(-bounds[1],bounds[1],test_n)]).T\n",
    "        elif self.dim == 3:\n",
    "            omega_domain = np.array([np.random.uniform(-bounds[0], bounds[0],train_n), np.random.uniform(-bounds[1],bounds[1],train_n),  np.random.uniform(-bounds[2],bounds[2],train_n)]).T\n",
    "            test_omega_domain = np.array([np.random.uniform(-bounds[0], bounds[0],test_n), np.random.uniform(-bounds[1],bounds[1],test_n),  np.random.uniform(-bounds[2],bounds[2],test_n)]).T\n",
    "        elif self.dim == 1:\n",
    "            omega_domain = np.random.uniform(-bounds[0], bounds[0],train_n)\n",
    "            test_omega_domain = np.random.uniform(-bounds[0], bounds[0],test_n)\n",
    "        else:\n",
    "            return('wrong dimensions')\n",
    "        vfdata = self.vf(omega_domain)\n",
    "        tdata = tf.convert_to_tensor(omega_domain, dtype=tf.float32)\n",
    "        tvf     = kb.transpose(tf.convert_to_tensor(vfdata, dtype=tf.float32))\n",
    "        test_vfdata = self.vf(test_omega_domain)\n",
    "        test_tdata = tf.convert_to_tensor(test_omega_domain, dtype=tf.float32)\n",
    "        test_tvf     = kb.transpose(tf.convert_to_tensor(test_vfdata, dtype=tf.float32))\n",
    "\n",
    "        train_dataset_raw = tf.data.Dataset.from_tensor_slices((tdata, tvf))\n",
    "        test_dataset_raw = tf.data.Dataset.from_tensor_slices((test_tdata, test_tvf))\n",
    "\n",
    "        return train_dataset_raw, test_dataset_raw\n",
    "    \n",
    "    def shuffle_and_batch_dataset(self, dataset, batch_size, shuffle_buffer=None):\n",
    "        if shuffle_buffer:\n",
    "            dataset = dataset.shuffle(buffer_size=shuffle_buffer)\n",
    "            \n",
    "        dataset = dataset.batch(batch_size)\n",
    "        return(dataset)\n",
    "        "
   ]
  },
  {
   "cell_type": "code",
   "execution_count": 152,
   "metadata": {},
   "outputs": [],
   "source": [
    "def get_regularised_bn_mlp(input_shape, m, hidden_units, l2_reg_coeff = None, dropout_rate = None):\n",
    "    \"\"\"\n",
    "    This function is used to build the MLP model. It takes input_shape and hidden_units\n",
    "    as arguments, which should be used to build the model as described above, using the\n",
    "    functional API.\n",
    "    Your function should return the model.\n",
    "    \"\"\"\n",
    "    inputs = tf.keras.layers.Input(shape=input_shape, name = 'state')\n",
    "    # h = inputs\n",
    "    # h = tf.keras.layers.Dense(m, activation=tf.math.cos, \n",
    "    #                           kernel_initializer=tf.random_normal_initializer,\n",
    "    #                           bias_initializer= tf.random_uniform_initializer(0, 2*  np.pi), \n",
    "    #                           trainable=True)(inputs)\n",
    "    h = tf.keras.layers.Dense(m, activation='relu', trainable=False)(inputs)\n",
    "    # h = np.sqrt(2) * h\n",
    "    for units in hidden_units:\n",
    "        # h = tf.keras.layers.Dense(units, activation='selu', \n",
    "        #                           kernel_regularizer=tf.keras.regularizers.l2(l2_reg_coeff))(h)\n",
    "        h = tf.keras.layers.Dense(units, activation='linear')(h)\n",
    "        # h = tf.keras.layers.BatchNormalization()(h)\n",
    "        # h = tf.keras.layers.Dropout(dropout_rate)(h)\n",
    "    # outputs = tf.keras.layers.Dense(10, activation=None)(h)\n",
    "    # use bias is false because the derivative of a constant number (bias) is just zero\n",
    "    outputs = tf.keras.layers.Dense(1, activation=None, name = 'output_layer', use_bias=False, trainable=True)(h)\n",
    "    if m >= 1000:\n",
    "        # only divide by m if the number of neurons exceeds a certain threshold\n",
    "        print('ep!!!')\n",
    "        outputs = outputs / m\n",
    "    # model = tf.keras.models.Model(inputs=inputs, outputs=outputs)\n",
    "    model = MyModel(inputs=inputs, outputs=outputs)\n",
    "\n",
    "    return model"
   ]
  },
  {
   "cell_type": "code",
   "execution_count": 153,
   "metadata": {},
   "outputs": [],
   "source": [
    "\n",
    "# model = get_regularised_bn_mlp(input_shape=2, m = 200, hidden_units= [])\n",
    "# model.summary()"
   ]
  },
  {
   "cell_type": "code",
   "execution_count": 154,
   "metadata": {},
   "outputs": [],
   "source": [
    "def custom_training_loop(model, epochs, tol, train_dataset, validation_dataest):\n",
    "\n",
    "    all_loss_values = []\n",
    "    all_test_loss_values = []\n",
    "\n",
    "    start = time.perf_counter()\n",
    "\n",
    "    # loop through the epochs\n",
    "    for epoch in range(epochs):\n",
    "\n",
    "        # initialize error variables, mlv=maximum (L_infty), slv = L_1\n",
    "        mlv = 0.0\n",
    "        slv = 0.0\n",
    "        \n",
    "        # Iterate over the batches of the dataset\n",
    "        for step, (x_batch_train, vf_batch_train) in enumerate(train_dataset):\n",
    "\n",
    "            # call optimization routine\n",
    "            [loss_value,gloss] = model.train_step(x_batch_train, vf_batch_train)\n",
    "            all_loss_values.append(loss_value.numpy())\n",
    "\n",
    "\n",
    "            # update errors\n",
    "            # # mlv = kb.max([mlv,loss_value],0)\n",
    "            # mlv = tf.math.reduce_max([mlv,loss_value],0)\n",
    "            # # mlv = tf.math.maximum([mlv,loss_value],0)\n",
    "\n",
    "            slv = slv + loss_value\n",
    "\n",
    "        for step, (x_test, vf_test) in enumerate(validation_dataest):\n",
    "            test_loss = model.test_step(x_test, vf_test)\n",
    "            all_test_loss_values.append(test_loss)\n",
    "\n",
    "        # print log information at end of epoch    \n",
    "        # print('epoch %2s, samples %7s, loss %10.6f, aloss %10.6f, mloss %10.6f' % (epoch, ((step + 1) * batch_size), float(loss_value), slv/ (step + 1), mlv))\n",
    "        if epoch % 100 == 0:\n",
    "            # print('epoch %2s, loss %10.6f' % (epoch, float(loss_value)))\n",
    "            print('epoch {} and loss {}'.format(epoch, loss_value.numpy()))\n",
    "\n",
    "\n",
    "        # # terminate if L_infty error is sufficiently small\n",
    "        # if mlv < tol:\n",
    "        #     print('op')\n",
    "        #     break\n",
    "\n",
    "    print(\"End of training, time: {:.4f}\".format(time.perf_counter() - start))\n",
    "    return all_loss_values, all_test_loss_values"
   ]
  },
  {
   "cell_type": "code",
   "execution_count": 155,
   "metadata": {},
   "outputs": [],
   "source": [
    "# parameters\n",
    "# dimensions of the problem \n",
    "dim = 1\n",
    "# number of neurons of 1st layer\n",
    "m = 200\n",
    "# number of neurons of subsequent layers\n",
    "hidden_u = []\n",
    "# number of data points\n",
    "n = 90\n",
    "# bounds of the x1 and x2\n",
    "bounds = [2]\n",
    "# number of points for the test dataset\n",
    "test_n =90\n",
    "batch_n = 90\n",
    "buff = 1024\n",
    "epochs = 500\n",
    "tol = 1e-5\n",
    "\n",
    "# 1d\n",
    "\n",
    "def vf(x):\n",
    "    y = np.piecewise(x, [x ==0, x!=0], [0, lambda x: -np.square(x) / np.sin(x)])\n",
    "    return y"
   ]
  },
  {
   "cell_type": "code",
   "execution_count": 156,
   "metadata": {},
   "outputs": [
    {
     "name": "stdout",
     "output_type": "stream",
     "text": [
      "Model: \"my_model_21\"\n",
      "_________________________________________________________________\n",
      " Layer (type)                Output Shape              Param #   \n",
      "=================================================================\n",
      " state (InputLayer)          [(None, 1)]               0         \n",
      "                                                                 \n",
      " dense_21 (Dense)            (None, 200)               400       \n",
      "                                                                 \n",
      " output_layer (Dense)        (None, 1)                 200       \n",
      "                                                                 \n",
      "=================================================================\n",
      "Total params: 600\n",
      "Trainable params: 200\n",
      "Non-trainable params: 400\n",
      "_________________________________________________________________\n"
     ]
    }
   ],
   "source": [
    "model = get_regularised_bn_mlp(input_shape=dim, m = m, hidden_units= hidden_u)\n",
    "model.summary()"
   ]
  },
  {
   "cell_type": "code",
   "execution_count": 157,
   "metadata": {},
   "outputs": [
    {
     "name": "stdout",
     "output_type": "stream",
     "text": [
      "epoch 0 and loss 193.87869262695312\n",
      "epoch 100 and loss 8.405185880633326e-09\n"
     ]
    },
    {
     "name": "stderr",
     "output_type": "stream",
     "text": [
      "2022-06-12 12:12:24.986570: W tensorflow/core/data/root_dataset.cc:163] Optimization loop failed: CANCELLED: Operation was cancelled\n",
      "2022-06-12 12:12:25.585410: W tensorflow/core/data/root_dataset.cc:163] Optimization loop failed: CANCELLED: Operation was cancelled\n"
     ]
    },
    {
     "name": "stdout",
     "output_type": "stream",
     "text": [
      "epoch 200 and loss 0.0\n"
     ]
    },
    {
     "name": "stderr",
     "output_type": "stream",
     "text": [
      "2022-06-12 12:12:27.193793: W tensorflow/core/data/root_dataset.cc:163] Optimization loop failed: CANCELLED: Operation was cancelled\n"
     ]
    },
    {
     "name": "stdout",
     "output_type": "stream",
     "text": [
      "epoch 300 and loss 0.0\n"
     ]
    },
    {
     "name": "stderr",
     "output_type": "stream",
     "text": [
      "2022-06-12 12:12:30.135119: W tensorflow/core/data/root_dataset.cc:163] Optimization loop failed: CANCELLED: Operation was cancelled\n"
     ]
    },
    {
     "name": "stdout",
     "output_type": "stream",
     "text": [
      "epoch 400 and loss 6.467518035881137e-13\n",
      "End of training, time: 9.7491\n"
     ]
    },
    {
     "data": {
      "image/png": "[encoded data removed]",
      "text/plain": [
       "<Figure size 960x640 with 1 Axes>"
      ]
     },
     "metadata": {
      "needs_background": "light"
     },
     "output_type": "display_data"
    }
   ],
   "source": [
    "my_data = Create_Data(vf, dim)\n",
    "tr, te = my_data.create_raw_data(n, bounds, test_n)\n",
    "tr = my_data.shuffle_and_batch_dataset(tr, batch_n, buff)\n",
    "te = my_data.shuffle_and_batch_dataset(te, batch_n)\n",
    "\n",
    "all_loss_values, all_test_loss_values = custom_training_loop(model, epochs, tol, tr, te)\n",
    "\n",
    "plt.plot(all_loss_values, label = 'train')\n",
    "plt.plot(all_test_loss_values, label = 'test')\n",
    "plt.title(\"Loss vs iterations with m = {}\".format(m))\n",
    "plt.xlabel(\"Iterations\")\n",
    "plt.ylabel(\"MSE loss\")\n",
    "plt.legend()\n",
    "plt.show()"
   ]
  },
  {
   "cell_type": "code",
   "execution_count": 159,
   "metadata": {},
   "outputs": [
    {
     "data": {
      "image/png": "[encoded data removed]",
      "text/plain": [
       "<Figure size 960x640 with 1 Axes>"
      ]
     },
     "metadata": {
      "needs_background": "light"
     },
     "output_type": "display_data"
    }
   ],
   "source": [
    "# 1d\n",
    "# define resolution\n",
    "numpoints = 30\n",
    "\n",
    "# define plotting range and mesh\n",
    "x = np.linspace(-bounds[0], bounds[0], numpoints)\n",
    "v_pred = model.predict(x)\n",
    "\n",
    "def v_true_f(x):\n",
    "    vtf = - np.cos(x)\n",
    "    return vtf\n",
    "v_true = v_true_f(x)\n",
    "y_true = vf(x)\n",
    "\n",
    "plt.plot(x, y_true, label = 'true function')\n",
    "plt.plot(x, v_true, label = 'true V')\n",
    "plt.plot(x, v_pred, label = 'predicted V')\n",
    "plt.legend()\n",
    "plt.show()"
   ]
  },
  {
   "cell_type": "code",
   "execution_count": null,
   "metadata": {},
   "outputs": [],
   "source": []
  }
 ],
 "metadata": {
  "interpreter": {
   "hash": "4ea4ae45c481d49b1f7ee32c400286c37e8040db9d409996f2cf49118c022492"
  },
  "kernelspec": {
   "display_name": "Python 3.7.11 ('DL')",
   "language": "python",
   "name": "python3"
  },
  "language_info": {
   "codemirror_mode": {
    "name": "ipython",
    "version": 3
   },
   "file_extension": ".py",
   "mimetype": "text/x-python",
   "name": "python",
   "nbconvert_exporter": "python",
   "pygments_lexer": "ipython3",
   "version": "3.7.11"
  },
  "orig_nbformat": 4
 },
 "nbformat": 4,
 "nbformat_minor": 2
}
