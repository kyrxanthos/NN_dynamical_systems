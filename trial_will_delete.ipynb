{
 "cells": [
  {
   "cell_type": "code",
   "execution_count": 1,
   "metadata": {},
   "outputs": [],
   "source": [
    "import numpy as np\n",
    "import pysindy as ps\n",
    "from scipy.integrate import odeint\n",
    "import matplotlib.pyplot as plt\n",
    "from scipy.integrate import solve_ivp\n",
    "from sklearn.linear_model import Lasso\n",
    "from pysindy.differentiation import SmoothedFiniteDifference\n",
    "\n",
    "# Initialize integrator keywords for solve_ivp to replicate the odeint defaults\n",
    "integrator_keywords = {}\n",
    "integrator_keywords['rtol'] = 1e-12\n",
    "integrator_keywords['method'] = 'LSODA'\n",
    "integrator_keywords['atol'] = 1e-12"
   ]
  },
  {
   "cell_type": "code",
   "execution_count": null,
   "metadata": {},
   "outputs": [],
   "source": [
    "def vf(t, x, p=[1]):\n",
    "    return [-x[1], - p[0] * (1 - x[0] ** 2) * x[1] + x[0]]\n",
    "# Generate measurement data\n",
    "dt = .001\n",
    "\n",
    "t_train = np.arange(0, 100, dt)\n",
    "x0_train = [0, 1, 0, 1, 0, 1, 0, 1, 0, 1]\n",
    "t_train_span = (t_train[0], t_train[-1])\n",
    "\n",
    "\n",
    "x_train = solve_ivp(fun = vf, t_span = t_train_span, y0 = x0_train, t_eval=t_train, **integrator_keywords).y.T\n",
    "diff_method = SmoothedFiniteDifference(smoother_kws={'window_length': 5})\n",
    "opt = ps.optimizers.STLSQ(threshold=0.01, alpha = 0.1, max_iter=2000, normalize_columns=True, fit_intercept=False)\n",
    "lib = ps.PolynomialLibrary(degree=3).fit(x_train)\n",
    "model = ps.SINDy(optimizer=opt, feature_library=lib, differentiation_method=diff_method)\n",
    "model.fit(x_train, t=dt)\n",
    "print('score: {}'.format(model.score(x_train, dt)))\n",
    "model.print()"
   ]
  }
 ],
 "metadata": {
  "kernelspec": {
   "display_name": "Python 3.7.11 ('DL')",
   "language": "python",
   "name": "python3"
  },
  "language_info": {
   "codemirror_mode": {
    "name": "ipython",
    "version": 3
   },
   "file_extension": ".py",
   "mimetype": "text/x-python",
   "name": "python",
   "nbconvert_exporter": "python",
   "pygments_lexer": "ipython3",
   "version": "3.7.11"
  },
  "orig_nbformat": 4,
  "vscode": {
   "interpreter": {
    "hash": "4ea4ae45c481d49b1f7ee32c400286c37e8040db9d409996f2cf49118c022492"
   }
  }
 },
 "nbformat": 4,
 "nbformat_minor": 2
}
