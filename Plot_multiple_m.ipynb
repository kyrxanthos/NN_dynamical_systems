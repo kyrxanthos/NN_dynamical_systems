{
 "cells": [
  {
   "cell_type": "code",
   "execution_count": 71,
   "metadata": {},
   "outputs": [],
   "source": [
    "import pandas as pd\n",
    "import glob\n",
    "import os\n",
    "import matplotlib.pyplot as plt"
   ]
  },
  {
   "cell_type": "code",
   "execution_count": 11,
   "metadata": {},
   "outputs": [],
   "source": [
    "path = 'Experiments/Lyapunov_eq_van_der_pool_2d_train_False (3)'\n",
    "all_files = glob.glob(os.path.join(path, \"*.csv\"))\n",
    "\n",
    "df = pd.concat((pd.read_csv(f) for f in all_files), ignore_index=False, axis=1)"
   ]
  },
  {
   "cell_type": "code",
   "execution_count": 14,
   "metadata": {},
   "outputs": [
    {
     "data": {
      "text/plain": [
       "all_loss_values       all_test_loss_values\n",
       "72.24261                          75.69434\n",
       "61.546154                         65.18326\n",
       "53.283924                        56.996395\n",
       "46.780254                         50.49353\n",
       "                              ...         \n",
       "1.3399481773376465                1.557792\n",
       "1.339901089668274                 1.557727\n",
       "1.3398537635803223                1.557662\n",
       "1.3398065567016602                1.557597\n",
       "1.339759111404419                 1.557531\n",
       "Name: 0, Length: 70007, dtype: object"
      ]
     },
     "execution_count": 14,
     "metadata": {},
     "output_type": "execute_result"
    }
   ],
   "source": [
    "# assign dataset names\n",
    "ms = [40, 100, 200, 400, 800, 1200, 3200]\n",
    " \n",
    "# create empty list\n",
    "dataframes_list = []\n",
    " \n",
    "# append datasets into the list\n",
    "for i in range(len(ms)):\n",
    "    temp_df = pd.read_csv(\"./csv/\"+ms[i]+\".csv\")\n",
    "    dataframes_list.append(temp_df)"
   ]
  },
  {
   "cell_type": "code",
   "execution_count": 15,
   "metadata": {},
   "outputs": [],
   "source": [
    "op = [pd.read_csv(f) for f in all_files]"
   ]
  },
  {
   "cell_type": "code",
   "execution_count": 24,
   "metadata": {},
   "outputs": [
    {
     "data": {
      "text/plain": [
       "all_loss_values       all_test_loss_values\n",
       "72.24261                          75.69434\n",
       "61.546154                         65.18326\n",
       "53.283924                        56.996395\n",
       "46.780254                         50.49353\n",
       "                              ...         \n",
       "0.9474741816520691                 0.38353\n",
       "0.9474536180496216                0.383523\n",
       "0.9474327564239502                0.383515\n",
       "0.9474120140075684                0.383508\n",
       "0.9473913311958313                0.383501\n",
       "Name: 0, Length: 10001, dtype: object"
      ]
     },
     "execution_count": 24,
     "metadata": {},
     "output_type": "execute_result"
    }
   ],
   "source": [
    "op[0].T[0]"
   ]
  },
  {
   "cell_type": "code",
   "execution_count": 25,
   "metadata": {},
   "outputs": [
    {
     "data": {
      "text/plain": [
       "['Experiments/Lyapunov_eq_van_der_pool_2d_train_False (3)/results_m_1200_act_<function cos at 0x7fce3000a7a0>.csv',\n",
       " 'Experiments/Lyapunov_eq_van_der_pool_2d_train_False (3)/results_m_400_act_<function cos at 0x7fce3000a7a0>.csv',\n",
       " 'Experiments/Lyapunov_eq_van_der_pool_2d_train_False (3)/results_m_800_act_<function cos at 0x7fce3000a7a0>.csv',\n",
       " 'Experiments/Lyapunov_eq_van_der_pool_2d_train_False (3)/results_m_3200_act_<function cos at 0x7fce3000a7a0>.csv',\n",
       " 'Experiments/Lyapunov_eq_van_der_pool_2d_train_False (3)/results_m_200_act_<function cos at 0x7fce3000a7a0>.csv',\n",
       " 'Experiments/Lyapunov_eq_van_der_pool_2d_train_False (3)/results_m_40_act_<function cos at 0x7fce3000a7a0>.csv',\n",
       " 'Experiments/Lyapunov_eq_van_der_pool_2d_train_False (3)/results_m_100_act_<function cos at 0x7fce3000a7a0>.csv']"
      ]
     },
     "execution_count": 25,
     "metadata": {},
     "output_type": "execute_result"
    }
   ],
   "source": [
    "all_files"
   ]
  },
  {
   "cell_type": "code",
   "execution_count": 70,
   "metadata": {},
   "outputs": [],
   "source": [
    "path = 'Experiments/Lyapunov_eq_van_der_pool_2d_train_False (4)'\n",
    "all_files = glob.glob(os.path.join(path, \"*.csv\"))\n",
    "op = [pd.read_csv(f, header = 0) for f in all_files]"
   ]
  },
  {
   "cell_type": "code",
   "execution_count": 61,
   "metadata": {},
   "outputs": [],
   "source": [
    "def make_good_dfs(df):\n",
    "    df = df.T\n",
    "    new_header = df.iloc[0] #grab the first row for the header\n",
    "    df = df[1:] #take the data less the header row\n",
    "    df.columns = new_header #set the header row as the df header\n",
    "    return df\n",
    "dfs = [make_good_dfs(df) for df in op]"
   ]
  },
  {
   "cell_type": "code",
   "execution_count": 78,
   "metadata": {},
   "outputs": [
    {
     "data": {
      "image/png": "[encoded data removed]",
      "text/plain": [
       "<Figure size 432x288 with 1 Axes>"
      ]
     },
     "metadata": {
      "needs_background": "light"
     },
     "output_type": "display_data"
    }
   ],
   "source": [
    "ms = [1200, 400, 800, 3200, 200, 40, 100]\n",
    "\n",
    "for (m, df) in zip(ms, dfs):\n",
    "    plt.plot(df['all_loss_values'], label = m)\n",
    "    plt.xscale('log')\n",
    "plt.legend()\n",
    "plt.show()"
   ]
  },
  {
   "cell_type": "code",
   "execution_count": null,
   "metadata": {},
   "outputs": [],
   "source": []
  }
 ],
 "metadata": {
  "kernelspec": {
   "display_name": "Python 3.7.11 ('DL')",
   "language": "python",
   "name": "python3"
  },
  "language_info": {
   "codemirror_mode": {
    "name": "ipython",
    "version": 3
   },
   "file_extension": ".py",
   "mimetype": "text/x-python",
   "name": "python",
   "nbconvert_exporter": "python",
   "pygments_lexer": "ipython3",
   "version": "3.7.11"
  },
  "orig_nbformat": 4,
  "vscode": {
   "interpreter": {
    "hash": "4ea4ae45c481d49b1f7ee32c400286c37e8040db9d409996f2cf49118c022492"
   }
  }
 },
 "nbformat": 4,
 "nbformat_minor": 2
}
